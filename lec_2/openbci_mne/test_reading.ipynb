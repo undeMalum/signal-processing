{
 "cells": [
  {
   "cell_type": "code",
   "execution_count": 23,
   "metadata": {},
   "outputs": [],
   "source": [
    "import pandas as pd\n",
    "import numpy as np\n",
    "import mne"
   ]
  },
  {
   "cell_type": "code",
   "execution_count": 24,
   "metadata": {},
   "outputs": [
    {
     "name": "stdout",
     "output_type": "stream",
     "text": [
      "   Sample Index  EXG Channel 0  EXG Channel 1  EXG Channel 2  EXG Channel 3  \\\n",
      "0           0.0  110752.849073            0.0            0.0            0.0   \n",
      "1           1.0  110728.306857            0.0            0.0            0.0   \n",
      "2           2.0  110659.552891            0.0            0.0            0.0   \n",
      "3           3.0  110643.683153            0.0            0.0            0.0   \n",
      "4           4.0  110713.889982            0.0            0.0            0.0   \n",
      "\n",
      "   EXG Channel 4  EXG Channel 5  EXG Channel 6  EXG Channel 7  \\\n",
      "0            0.0            0.0            0.0            0.0   \n",
      "1            0.0            0.0            0.0            0.0   \n",
      "2            0.0            0.0            0.0            0.0   \n",
      "3            0.0            0.0            0.0            0.0   \n",
      "4            0.0            0.0            0.0            0.0   \n",
      "\n",
      "   Accel Channel 0  ...  Other.3  Other.4  Other.5  Other.6  Analog Channel 0  \\\n",
      "0            0.154  ...    255.0    176.0     14.0    192.0               0.0   \n",
      "1            0.154  ...      0.0      0.0      0.0      0.0               0.0   \n",
      "2            0.154  ...      0.0      0.0      0.0      0.0               0.0   \n",
      "3            0.154  ...      0.0      0.0      0.0      0.0               0.0   \n",
      "4            0.154  ...      0.0      0.0      0.0      0.0               0.0   \n",
      "\n",
      "   Analog Channel 1  Analog Channel 2     Timestamp  Other.7  \\\n",
      "0               0.0               0.0  1.740437e+09      0.0   \n",
      "1               0.0               0.0  1.740437e+09      0.0   \n",
      "2               0.0               0.0  1.740437e+09      0.0   \n",
      "3               0.0               0.0  1.740437e+09      0.0   \n",
      "4               0.0               0.0  1.740437e+09      0.0   \n",
      "\n",
      "     Timestamp (Formatted)  \n",
      "0  2025-02-25 00:43:29.048  \n",
      "1  2025-02-25 00:43:29.048  \n",
      "2  2025-02-25 00:43:29.048  \n",
      "3  2025-02-25 00:43:29.048  \n",
      "4  2025-02-25 00:43:29.049  \n",
      "\n",
      "[5 rows x 25 columns]\n",
      "Sample Index             float64\n",
      "EXG Channel 0            float64\n",
      "EXG Channel 1            float64\n",
      "EXG Channel 2            float64\n",
      "EXG Channel 3            float64\n",
      "EXG Channel 4            float64\n",
      "EXG Channel 5            float64\n",
      "EXG Channel 6            float64\n",
      "EXG Channel 7            float64\n",
      "Accel Channel 0          float64\n",
      "Accel Channel 1          float64\n",
      "Accel Channel 2          float64\n",
      "Other                    float64\n",
      "Other.1                  float64\n",
      "Other.2                  float64\n",
      "Other.3                  float64\n",
      "Other.4                  float64\n",
      "Other.5                  float64\n",
      "Other.6                  float64\n",
      "Analog Channel 0         float64\n",
      "Analog Channel 1         float64\n",
      "Analog Channel 2         float64\n",
      "Timestamp                float64\n",
      "Other.7                  float64\n",
      "Timestamp (Formatted)     object\n",
      "dtype: object\n"
     ]
    }
   ],
   "source": [
    "# Path to your CSV file\n",
    "csv_file = 'test.csv'\n",
    "\n",
    "# Read CSV while skipping metadata lines and stripping extra spaces\n",
    "df = pd.read_csv(csv_file, comment='%', skipinitialspace=True)\n",
    "df.columns = df.columns.str.strip()\n",
    "\n",
    "# Optionally, inspect the DataFrame to ensure correct reading\n",
    "print(df.head())\n",
    "print(df.dtypes)\n"
   ]
  },
  {
   "cell_type": "code",
   "execution_count": 25,
   "metadata": {},
   "outputs": [],
   "source": [
    "# Define the EXG channel names (assumed to be \"EXG Channel 0\" ... \"EXG Channel 7\")\n",
    "exg_channels = [f'EXG Channel {i}' for i in range(8)]\n",
    "\n"
   ]
  },
  {
   "cell_type": "code",
   "execution_count": 26,
   "metadata": {},
   "outputs": [],
   "source": [
    "# Ensure the columns are numeric\n",
    "for ch in exg_channels:\n",
    "    df[ch] = pd.to_numeric(df[ch], errors='coerce')\n",
    "\n",
    "# Convert raw values to Volts:\n",
    "# - The scaling factor 0.0223 converts raw counts to microvolts.\n",
    "# - To convert microvolts to volts, multiply by 1e-6.\n",
    "scaling_factor = 0.0223e-6  \n",
    "exg_data = df[exg_channels].to_numpy() * scaling_factor\n"
   ]
  },
  {
   "cell_type": "code",
   "execution_count": 27,
   "metadata": {},
   "outputs": [],
   "source": [
    "# Set the sampling frequency (from your metadata, here 250 Hz)\n",
    "sfreq = 250\n",
    "\n",
    "# Create MNE info structure (using 'eeg' channel type)\n",
    "info = mne.create_info(ch_names=exg_channels, sfreq=sfreq, ch_types=['eeg'] * len(exg_channels))\n"
   ]
  },
  {
   "cell_type": "code",
   "execution_count": 28,
   "metadata": {},
   "outputs": [
    {
     "data": {
      "text/html": [
       "<details open>\n",
       "    <summary><strong>General</strong></summary>\n",
       "    <table class=\"table table-hover table-striped table-sm table-responsive small\">\n",
       "        <tr>\n",
       "            <th>Measurement date</th>\n",
       "            \n",
       "            <td>Unknown</td>\n",
       "            \n",
       "        </tr>\n",
       "        <tr>\n",
       "            <th>Experimenter</th>\n",
       "            \n",
       "            <td>Unknown</td>\n",
       "            \n",
       "        </tr>\n",
       "        <tr>\n",
       "            <th>Participant</th>\n",
       "            \n",
       "            <td>Unknown</td>\n",
       "            \n",
       "        </tr>\n",
       "    </table>\n",
       "    </details>\n",
       "    <details open>\n",
       "        <summary><strong>Channels</strong></summary>\n",
       "        <table class=\"table table-hover table-striped table-sm table-responsive small\">\n",
       "            <tr>\n",
       "                <th>Digitized points</th>\n",
       "                \n",
       "                <td>Not available</td>\n",
       "                \n",
       "            </tr>\n",
       "            <tr>\n",
       "                <th>Good channels</th>\n",
       "                <td>8 EEG</td>\n",
       "            </tr>\n",
       "            <tr>\n",
       "                <th>Bad channels</th>\n",
       "                <td>None</td>\n",
       "            </tr>\n",
       "            <tr>\n",
       "                <th>EOG channels</th>\n",
       "                <td>Not available</td>\n",
       "            </tr>\n",
       "            <tr>\n",
       "                <th>ECG channels</th>\n",
       "                <td>Not available</td>\n",
       "            </tr>\n",
       "        </table>\n",
       "        </details>\n",
       "        <details open>\n",
       "            <summary><strong>Data</strong></summary>\n",
       "            <table class=\"table table-hover table-striped table-sm table-responsive small\">\n",
       "                \n",
       "                <tr>\n",
       "                    <th>Sampling frequency</th>\n",
       "                    <td>250.00 Hz</td>\n",
       "                </tr>\n",
       "                \n",
       "                \n",
       "                <tr>\n",
       "                    <th>Highpass</th>\n",
       "                    <td>0.00 Hz</td>\n",
       "                </tr>\n",
       "                \n",
       "                \n",
       "                <tr>\n",
       "                    <th>Lowpass</th>\n",
       "                    <td>125.00 Hz</td>\n",
       "                </tr>\n",
       "                \n",
       "                \n",
       "                \n",
       "                \n",
       "            </table>\n",
       "            </details>"
      ],
      "text/plain": [
       "<Info | 7 non-empty values\n",
       " bads: []\n",
       " ch_names: EXG Channel 0, EXG Channel 1, EXG Channel 2, EXG Channel 3, EXG ...\n",
       " chs: 8 EEG\n",
       " custom_ref_applied: False\n",
       " highpass: 0.0 Hz\n",
       " lowpass: 125.0 Hz\n",
       " meas_date: unspecified\n",
       " nchan: 8\n",
       " projs: []\n",
       " sfreq: 250.0 Hz\n",
       ">"
      ]
     },
     "execution_count": 28,
     "metadata": {},
     "output_type": "execute_result"
    }
   ],
   "source": [
    "info"
   ]
  },
  {
   "cell_type": "code",
   "execution_count": 29,
   "metadata": {},
   "outputs": [
    {
     "name": "stdout",
     "output_type": "stream",
     "text": [
      "Creating RawArray with float64 data, n_channels=8, n_times=14703\n",
      "    Range : 0 ... 14702 =      0.000 ...    58.808 secs\n",
      "Ready.\n"
     ]
    }
   ],
   "source": [
    "# Create the MNE Raw object (data shape must be [n_channels, n_times])\n",
    "raw = mne.io.RawArray(exg_data.T, info)\n"
   ]
  },
  {
   "cell_type": "code",
   "execution_count": null,
   "metadata": {},
   "outputs": [],
   "source": [
    "# Rename the channels of the EEG sensors\n",
    "rename_dict = {\n",
    "    \"EXG Channel 0\": \"Fz\",\n",
    "    \"EXG Channel 1\": \"Cz\",\n",
    "    \"EXG Channel 2\": \"Pz\",\n",
    "    \"EXG Channel 3\": \"Oz\",\n",
    "    \"EXG Channel 4\": \"T7\",\n",
    "    \"EXG Channel 5\": \"T8\",\n",
    "    \"EXG Channel 6\": \"P7\",\n",
    "    \"EXG Channel 7\": \"P8\",\n",
    "}\n",
    "\n",
    "raw.rename_channels(rename_dict)"
   ]
  },
  {
   "cell_type": "code",
   "execution_count": 31,
   "metadata": {},
   "outputs": [
    {
     "ename": "ValueError",
     "evalue": "picks ('Fz') could not be interpreted as channel names (no channel \"['Fz']\"), channel types (no type \"Fz\" present), or a generic type (just \"all\" or \"data\")",
     "output_type": "error",
     "traceback": [
      "\u001b[0;31m---------------------------------------------------------------------------\u001b[0m",
      "\u001b[0;31mValueError\u001b[0m                                Traceback (most recent call last)",
      "Cell \u001b[0;32mIn[31], line 1\u001b[0m\n\u001b[0;32m----> 1\u001b[0m channel_1_data \u001b[38;5;241m=\u001b[39m \u001b[43mraw\u001b[49m\u001b[38;5;241;43m.\u001b[39;49m\u001b[43mget_data\u001b[49m\u001b[43m(\u001b[49m\u001b[43mpicks\u001b[49m\u001b[38;5;241;43m=\u001b[39;49m\u001b[38;5;124;43m'\u001b[39;49m\u001b[38;5;124;43mFz\u001b[39;49m\u001b[38;5;124;43m'\u001b[39;49m\u001b[43m)\u001b[49m\n\u001b[1;32m      2\u001b[0m \u001b[38;5;28mprint\u001b[39m(channel_1_data)\n",
      "File \u001b[0;32m<decorator-gen-241>:12\u001b[0m, in \u001b[0;36mget_data\u001b[0;34m(self, picks, start, stop, reject_by_annotation, return_times, units, tmin, tmax, verbose)\u001b[0m\n",
      "File \u001b[0;32m/opt/anaconda3/envs/mne/lib/python3.12/site-packages/mne/io/base.py:941\u001b[0m, in \u001b[0;36mBaseRaw.get_data\u001b[0;34m(self, picks, start, stop, reject_by_annotation, return_times, units, tmin, tmax, verbose)\u001b[0m\n\u001b[1;32m    936\u001b[0m _validate_type(start, types\u001b[38;5;241m=\u001b[39m(\u001b[38;5;124m\"\u001b[39m\u001b[38;5;124mint-like\u001b[39m\u001b[38;5;124m\"\u001b[39m), item_name\u001b[38;5;241m=\u001b[39m\u001b[38;5;124m\"\u001b[39m\u001b[38;5;124mstart\u001b[39m\u001b[38;5;124m\"\u001b[39m, type_name\u001b[38;5;241m=\u001b[39m\u001b[38;5;124m\"\u001b[39m\u001b[38;5;124mint\u001b[39m\u001b[38;5;124m\"\u001b[39m)\n\u001b[1;32m    937\u001b[0m _validate_type(\n\u001b[1;32m    938\u001b[0m     stop, types\u001b[38;5;241m=\u001b[39m(\u001b[38;5;124m\"\u001b[39m\u001b[38;5;124mint-like\u001b[39m\u001b[38;5;124m\"\u001b[39m, \u001b[38;5;28;01mNone\u001b[39;00m), item_name\u001b[38;5;241m=\u001b[39m\u001b[38;5;124m\"\u001b[39m\u001b[38;5;124mstop\u001b[39m\u001b[38;5;124m\"\u001b[39m, type_name\u001b[38;5;241m=\u001b[39m\u001b[38;5;124m\"\u001b[39m\u001b[38;5;124mint, None\u001b[39m\u001b[38;5;124m\"\u001b[39m\n\u001b[1;32m    939\u001b[0m )\n\u001b[0;32m--> 941\u001b[0m picks \u001b[38;5;241m=\u001b[39m \u001b[43m_picks_to_idx\u001b[49m\u001b[43m(\u001b[49m\u001b[38;5;28;43mself\u001b[39;49m\u001b[38;5;241;43m.\u001b[39;49m\u001b[43minfo\u001b[49m\u001b[43m,\u001b[49m\u001b[43m \u001b[49m\u001b[43mpicks\u001b[49m\u001b[43m,\u001b[49m\u001b[43m \u001b[49m\u001b[38;5;124;43m\"\u001b[39;49m\u001b[38;5;124;43mall\u001b[39;49m\u001b[38;5;124;43m\"\u001b[39;49m\u001b[43m,\u001b[49m\u001b[43m \u001b[49m\u001b[43mexclude\u001b[49m\u001b[38;5;241;43m=\u001b[39;49m\u001b[43m(\u001b[49m\u001b[43m)\u001b[49m\u001b[43m)\u001b[49m\n\u001b[1;32m    943\u001b[0m \u001b[38;5;66;03m# Get channel factors for conversion into specified unit\u001b[39;00m\n\u001b[1;32m    944\u001b[0m \u001b[38;5;66;03m# (vector of ones if no conversion needed)\u001b[39;00m\n\u001b[1;32m    945\u001b[0m \u001b[38;5;28;01mif\u001b[39;00m units \u001b[38;5;129;01mis\u001b[39;00m \u001b[38;5;129;01mnot\u001b[39;00m \u001b[38;5;28;01mNone\u001b[39;00m:\n",
      "File \u001b[0;32m/opt/anaconda3/envs/mne/lib/python3.12/site-packages/mne/_fiff/pick.py:1255\u001b[0m, in \u001b[0;36m_picks_to_idx\u001b[0;34m(info, picks, none, exclude, allow_empty, with_ref_meg, return_kind, picks_on)\u001b[0m\n\u001b[1;32m   1253\u001b[0m     \u001b[38;5;28;01mraise\u001b[39;00m \u001b[38;5;167;01mValueError\u001b[39;00m(\u001b[38;5;124mf\u001b[39m\u001b[38;5;124m\"\u001b[39m\u001b[38;5;124mpicks must be 1D, got \u001b[39m\u001b[38;5;132;01m{\u001b[39;00mpicks\u001b[38;5;241m.\u001b[39mndim\u001b[38;5;132;01m}\u001b[39;00m\u001b[38;5;124mD\u001b[39m\u001b[38;5;124m\"\u001b[39m)\n\u001b[1;32m   1254\u001b[0m \u001b[38;5;28;01mif\u001b[39;00m picks\u001b[38;5;241m.\u001b[39mdtype\u001b[38;5;241m.\u001b[39mchar \u001b[38;5;129;01min\u001b[39;00m (\u001b[38;5;124m\"\u001b[39m\u001b[38;5;124mS\u001b[39m\u001b[38;5;124m\"\u001b[39m, \u001b[38;5;124m\"\u001b[39m\u001b[38;5;124mU\u001b[39m\u001b[38;5;124m\"\u001b[39m):\n\u001b[0;32m-> 1255\u001b[0m     picks \u001b[38;5;241m=\u001b[39m \u001b[43m_picks_str_to_idx\u001b[49m\u001b[43m(\u001b[49m\n\u001b[1;32m   1256\u001b[0m \u001b[43m        \u001b[49m\u001b[43minfo\u001b[49m\u001b[43m,\u001b[49m\n\u001b[1;32m   1257\u001b[0m \u001b[43m        \u001b[49m\u001b[43mpicks\u001b[49m\u001b[43m,\u001b[49m\n\u001b[1;32m   1258\u001b[0m \u001b[43m        \u001b[49m\u001b[43mexclude\u001b[49m\u001b[43m,\u001b[49m\n\u001b[1;32m   1259\u001b[0m \u001b[43m        \u001b[49m\u001b[43mwith_ref_meg\u001b[49m\u001b[43m,\u001b[49m\n\u001b[1;32m   1260\u001b[0m \u001b[43m        \u001b[49m\u001b[43mreturn_kind\u001b[49m\u001b[43m,\u001b[49m\n\u001b[1;32m   1261\u001b[0m \u001b[43m        \u001b[49m\u001b[43mextra_repr\u001b[49m\u001b[43m,\u001b[49m\n\u001b[1;32m   1262\u001b[0m \u001b[43m        \u001b[49m\u001b[43mallow_empty\u001b[49m\u001b[43m,\u001b[49m\n\u001b[1;32m   1263\u001b[0m \u001b[43m        \u001b[49m\u001b[43morig_picks\u001b[49m\u001b[43m,\u001b[49m\n\u001b[1;32m   1264\u001b[0m \u001b[43m    \u001b[49m\u001b[43m)\u001b[49m\n\u001b[1;32m   1265\u001b[0m     \u001b[38;5;28;01mif\u001b[39;00m return_kind:\n\u001b[1;32m   1266\u001b[0m         picked_ch_type_or_generic \u001b[38;5;241m=\u001b[39m picks[\u001b[38;5;241m1\u001b[39m]\n",
      "File \u001b[0;32m/opt/anaconda3/envs/mne/lib/python3.12/site-packages/mne/_fiff/pick.py:1392\u001b[0m, in \u001b[0;36m_picks_str_to_idx\u001b[0;34m(info, picks, exclude, with_ref_meg, return_kind, extra_repr, allow_empty, orig_picks)\u001b[0m\n\u001b[1;32m   1390\u001b[0m \u001b[38;5;28;01mif\u001b[39;00m \u001b[38;5;28msum\u001b[39m(any_found) \u001b[38;5;241m==\u001b[39m \u001b[38;5;241m0\u001b[39m:\n\u001b[1;32m   1391\u001b[0m     \u001b[38;5;28;01mif\u001b[39;00m \u001b[38;5;129;01mnot\u001b[39;00m allow_empty:\n\u001b[0;32m-> 1392\u001b[0m         \u001b[38;5;28;01mraise\u001b[39;00m \u001b[38;5;167;01mValueError\u001b[39;00m(\n\u001b[1;32m   1393\u001b[0m             \u001b[38;5;124mf\u001b[39m\u001b[38;5;124m\"\u001b[39m\u001b[38;5;124mpicks (\u001b[39m\u001b[38;5;132;01m{\u001b[39;00m\u001b[38;5;28mrepr\u001b[39m(orig_picks)\u001b[38;5;250m \u001b[39m\u001b[38;5;241m+\u001b[39m\u001b[38;5;250m \u001b[39mextra_repr\u001b[38;5;132;01m}\u001b[39;00m\u001b[38;5;124m) could not be interpreted as \u001b[39m\u001b[38;5;124m\"\u001b[39m\n\u001b[1;32m   1394\u001b[0m             \u001b[38;5;124mf\u001b[39m\u001b[38;5;124m'\u001b[39m\u001b[38;5;124mchannel names (no channel \u001b[39m\u001b[38;5;124m\"\u001b[39m\u001b[38;5;132;01m{\u001b[39;00m\u001b[38;5;28mstr\u001b[39m(bad_names)\u001b[38;5;132;01m}\u001b[39;00m\u001b[38;5;124m\"\u001b[39m\u001b[38;5;124m), channel types (no type\u001b[39m\u001b[38;5;124m'\u001b[39m\n\u001b[1;32m   1395\u001b[0m             \u001b[38;5;124mf\u001b[39m\u001b[38;5;124m'\u001b[39m\u001b[38;5;124m \u001b[39m\u001b[38;5;124m\"\u001b[39m\u001b[38;5;132;01m{\u001b[39;00mbad_type\u001b[38;5;132;01m}\u001b[39;00m\u001b[38;5;124m\"\u001b[39m\u001b[38;5;124m present), or a generic type (just \u001b[39m\u001b[38;5;124m\"\u001b[39m\u001b[38;5;124mall\u001b[39m\u001b[38;5;124m\"\u001b[39m\u001b[38;5;124m or \u001b[39m\u001b[38;5;124m\"\u001b[39m\u001b[38;5;124mdata\u001b[39m\u001b[38;5;124m\"\u001b[39m\u001b[38;5;124m)\u001b[39m\u001b[38;5;124m'\u001b[39m\n\u001b[1;32m   1396\u001b[0m         )\n\u001b[1;32m   1397\u001b[0m     picks \u001b[38;5;241m=\u001b[39m np\u001b[38;5;241m.\u001b[39marray([], \u001b[38;5;28mint\u001b[39m)\n\u001b[1;32m   1398\u001b[0m \u001b[38;5;28;01melif\u001b[39;00m \u001b[38;5;28msum\u001b[39m(any_found) \u001b[38;5;241m>\u001b[39m \u001b[38;5;241m1\u001b[39m:\n",
      "\u001b[0;31mValueError\u001b[0m: picks ('Fz') could not be interpreted as channel names (no channel \"['Fz']\"), channel types (no type \"Fz\" present), or a generic type (just \"all\" or \"data\")"
     ]
    }
   ],
   "source": [
    "channel_1_data = raw.get_data(picks='Fz')\n",
    "print(channel_1_data)"
   ]
  },
  {
   "cell_type": "code",
   "execution_count": null,
   "metadata": {},
   "outputs": [
    {
     "name": "stdout",
     "output_type": "stream",
     "text": [
      "Filtering raw data in 1 contiguous segment\n",
      "Setting up band-stop filter from 49 - 51 Hz\n",
      "\n",
      "FIR filter parameters\n",
      "---------------------\n",
      "Designing a one-pass, zero-phase, non-causal bandstop filter:\n",
      "- Windowed time-domain design (firwin) method\n",
      "- Hamming window with 0.0194 passband ripple and 53 dB stopband attenuation\n",
      "- Lower passband edge: 49.38\n",
      "- Lower transition bandwidth: 0.50 Hz (-6 dB cutoff frequency: 49.12 Hz)\n",
      "- Upper passband edge: 50.62 Hz\n",
      "- Upper transition bandwidth: 0.50 Hz (-6 dB cutoff frequency: 50.88 Hz)\n",
      "- Filter length: 1651 samples (6.604 s)\n",
      "\n",
      "Using qt as 2D backend.\n"
     ]
    },
    {
     "data": {
      "text/plain": [
       "<mne_qt_browser._pg_figure.MNEQtBrowser at 0x7d7030ebe9f0>"
      ]
     },
     "execution_count": 12,
     "metadata": {},
     "output_type": "execute_result"
    },
    {
     "name": "stdout",
     "output_type": "stream",
     "text": [
      "Channels marked as bad:\n",
      "none\n"
     ]
    }
   ],
   "source": [
    "# Apply a 50 Hz notch filter to remove line noise\n",
    "raw.notch_filter(freqs=50)\n",
    "\n",
    "# Plot the raw data (MNE will display amplitudes in µV by default)\n",
    "raw.plot()\n"
   ]
  }
 ],
 "metadata": {
  "kernelspec": {
   "display_name": "mne",
   "language": "python",
   "name": "python3"
  },
  "language_info": {
   "codemirror_mode": {
    "name": "ipython",
    "version": 3
   },
   "file_extension": ".py",
   "mimetype": "text/x-python",
   "name": "python",
   "nbconvert_exporter": "python",
   "pygments_lexer": "ipython3",
   "version": "3.12.4"
  }
 },
 "nbformat": 4,
 "nbformat_minor": 2
}
