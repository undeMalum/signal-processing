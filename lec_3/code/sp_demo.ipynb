{
 "cells": [
  {
   "cell_type": "markdown",
   "metadata": {},
   "source": [
    "## Signal Processing Fundamentals for Biosignals Demo\n",
    "### EUNICE Course - 3rd Lecture\n",
    "\n",
    "This notebook demonstrates the signal processing concepts covered in the lecture\n",
    "using MNE-Python.\n"
   ]
  },
  {
   "cell_type": "code",
   "execution_count": 1,
   "metadata": {},
   "outputs": [],
   "source": [
    "%matplotlib qt\n",
    "\n",
    "import numpy as np\n",
    "import matplotlib.pyplot as plt\n",
    "import mne\n",
    "from mne.datasets import sample\n",
    "import os\n",
    "import pandas as pd\n",
    "from pathlib import Path\n",
    "\n",
    "# Setting up plotting parameters\n",
    "plt.rcParams.update({'font.size': 11})\n",
    "mne.set_log_level('WARNING')  # Reduce terminal output\n"
   ]
  },
  {
   "cell_type": "markdown",
   "metadata": {},
   "source": [
    "### In this demo we will present the basic workflow we follow for the basic analysis of EEG signals"
   ]
  },
  {
   "cell_type": "markdown",
   "metadata": {},
   "source": [
    "### Load our data and plot the first 10 seconds"
   ]
  },
  {
   "cell_type": "code",
   "execution_count": 7,
   "metadata": {},
   "outputs": [
    {
     "name": "stdout",
     "output_type": "stream",
     "text": [
      "Sampling rate: 600.614990234375 Hz\n",
      "Number of channels: 60\n",
      "Duration: 277.71 seconds\n",
      "Channel names: ['EEG 001', 'EEG 002', 'EEG 003', 'EEG 004', 'EEG 005', 'EEG 006', 'EEG 007', 'EEG 008', 'EEG 009', 'EEG 010', 'EEG 011', 'EEG 012', 'EEG 013', 'EEG 014', 'EEG 015', 'EEG 016', 'EEG 017', 'EEG 018', 'EEG 019', 'EEG 020', 'EEG 021', 'EEG 022', 'EEG 023', 'EEG 024', 'EEG 025', 'EEG 026', 'EEG 027', 'EEG 028', 'EEG 029', 'EEG 030', 'EEG 031', 'EEG 032', 'EEG 033', 'EEG 034', 'EEG 035', 'EEG 036', 'EEG 037', 'EEG 038', 'EEG 039', 'EEG 040', 'EEG 041', 'EEG 042', 'EEG 043', 'EEG 044', 'EEG 045', 'EEG 046', 'EEG 047', 'EEG 048', 'EEG 049', 'EEG 050', 'EEG 051', 'EEG 052', 'EEG 054', 'EEG 055', 'EEG 056', 'EEG 057', 'EEG 058', 'EEG 059', 'EEG 060', 'EOG 061']\n"
     ]
    },
    {
     "name": "stderr",
     "output_type": "stream",
     "text": [
      "qt.core.qobject.connect: QObject::connect(QStyleHints, QStyleHints): unique connections require a pointer to member function of a QObject subclass\n"
     ]
    },
    {
     "data": {
      "text/plain": [
       "<mne_qt_browser._pg_figure.MNEQtBrowser(0x57208a980a80) at 0x705ac2600400>"
      ]
     },
     "execution_count": 7,
     "metadata": {},
     "output_type": "execute_result"
    },
    {
     "name": "stderr",
     "output_type": "stream",
     "text": [
      "/opt/anaconda3/envs/biosignals/lib/python3.10/site-packages/mne_qt_browser/_pg_figure.py:3061: RuntimeWarning: Failed to disconnect (None) from signal \"triggered()\".\n",
      "  sig.disconnect()\n"
     ]
    }
   ],
   "source": [
    "\n",
    "# First, we'll load some EEG data and inspect its properties.\n",
    "\n",
    "# Define data path - replace with your data path or use sample data\n",
    "# data_path = Path('/path/to/your/data')\n",
    "# Use MNE sample data for demonstration\n",
    "\n",
    "data_path = sample.data_path()\n",
    "sample_data_file = os.path.join(data_path, 'MEG', 'sample', 'sample_audvis_raw.fif')\n",
    "\n",
    "# Load the raw data\n",
    "raw = mne.io.read_raw_fif(sample_data_file, preload=True)\n",
    "\n",
    "# Let's select only EEG channels for simplicity\n",
    "raw.pick_types(meg=False, eeg=True, eog=True, exclude='bads')\n",
    "\n",
    "# Display information about the data\n",
    "print(f\"Sampling rate: {raw.info['sfreq']} Hz\")\n",
    "print(f\"Number of channels: {len(raw.ch_names)}\")\n",
    "print(f\"Duration: {raw.times.max():.2f} seconds\")\n",
    "print(f\"Channel names: {raw.ch_names}\")\n",
    "\n",
    "# Plot the first 10 seconds of data\n",
    "raw.plot(duration=10, n_channels=20, scalings='auto', title='Raw EEG Data')\n",
    "\n"
   ]
  },
  {
   "cell_type": "markdown",
   "metadata": {},
   "source": [
    "### Handling Bad channels"
   ]
  },
  {
   "cell_type": "code",
   "execution_count": 8,
   "metadata": {},
   "outputs": [
    {
     "name": "stdout",
     "output_type": "stream",
     "text": [
      "Bad channels: ['EEG 012', 'EEG 015']\n"
     ]
    },
    {
     "name": "stderr",
     "output_type": "stream",
     "text": [
      "qt.core.qobject.connect: QObject::connect(QStyleHints, QStyleHints): unique connections require a pointer to member function of a QObject subclass\n"
     ]
    },
    {
     "name": "stdout",
     "output_type": "stream",
     "text": [
      "Bad channels interpolated\n"
     ]
    },
    {
     "name": "stderr",
     "output_type": "stream",
     "text": [
      "/opt/anaconda3/envs/biosignals/lib/python3.10/site-packages/mne_qt_browser/_pg_figure.py:3061: RuntimeWarning: Failed to disconnect (None) from signal \"triggered()\".\n",
      "  sig.disconnect()\n"
     ]
    }
   ],
   "source": [
    "\n",
    "# Let's mark some channels as bad and then try different rereferencing schemes.\n",
    "\n",
    "# Mark a few channels as bad for demonstration\n",
    "raw.info['bads'] = ['EEG 012', 'EEG 015']\n",
    "print(f\"Bad channels: {raw.info['bads']}\")\n",
    "\n",
    "# Plot to see the bad channels\n",
    "fig = raw.plot(duration=5, n_channels=20, scalings='auto', title='Raw Data with Bad Channels')\n",
    "\n",
    "# Interpolate bad channels\n",
    "raw_interp = raw.copy().interpolate_bads()\n",
    "print(\"Bad channels interpolated\")\n"
   ]
  },
  {
   "cell_type": "markdown",
   "metadata": {},
   "source": [
    "### Re-reference the recordings\n",
    "\n",
    "#### Overview\n",
    "EEG measures a voltage (difference in electric potential) between each electrode and a reference electrode. This means that whatever signal is present at the reference electrode is effectively subtracted from all the measurement electrodes. Therefore, an ideal reference signal is one that captures none of the brain-specific fluctuations in electric potential, while capturing all of the environmental noise/interference that is being picked up by the measurement electrodes.\n",
    "\n",
    "In practice, this means that the reference electrode is often placed in a location on the subject’s body and close to their head (so that any environmental interference affects the reference and measurement electrodes similarly) but as far away from the neural sources as possible (so that the reference signal doesn’t pick up brain-based fluctuations). Typical reference locations are the subject’s earlobe, nose, mastoid process, or collarbone. Each of these has advantages and disadvantages regarding how much brain signal it picks up (e.g., the mastoids pick up a fair amount compared to the others), and regarding the environmental noise it picks up (e.g., earlobe electrodes may shift easily, and have signals more similar to electrodes on the same side of the head).\n",
    "\n",
    "Even in cases where no electrode is specifically designated as the reference, EEG recording hardware will still treat one of the scalp electrodes as the reference, and the recording software may or may not display it to you (it might appear as a completely flat channel, or the software might subtract out the average of all signals before displaying, making it look like there is no reference)."
   ]
  },
  {
   "cell_type": "code",
   "execution_count": 9,
   "metadata": {},
   "outputs": [],
   "source": [
    "# Compare different referencing schemes\n",
    "\n",
    "# 1. Original reference\n",
    "raw_orig = raw_interp.copy()\n",
    "\n",
    "# 2. Common Average Reference (CAR)\n",
    "raw_car = raw_interp.copy().set_eeg_reference('average', projection=False)\n",
    "\n",
    "# 3. Reference to specific electrodes (e.g., mastoids)\n",
    "# Let's use the channels closest to mastoids for this example\n",
    "# In real data, you'd use the actual mastoid channels\n",
    "mastoid_channels = ['EEG 029', 'EEG 030']  # Example channels, adjust based on your montage\n",
    "raw_mastoids = raw_interp.copy().set_eeg_reference(mastoid_channels, projection=False)\n",
    "\n",
    "# Plot all three referencing schemes for comparison\n",
    "channels_to_plot = ['EEG 001', 'EEG 002', 'EEG 003', 'EEG 004', 'EEG 005']\n",
    "start_time = 0\n",
    "duration = 5\n",
    "\n",
    "fig, axes = plt.subplots(3, 1, figsize=(15, 12), sharex=True)\n",
    "titles = ['Original Reference', 'Common Average Reference', 'Mastoid Reference']\n",
    "raws = [raw_orig, raw_car, raw_mastoids]\n",
    "\n",
    "for i, (raw_ref, title) in enumerate(zip(raws, titles)):\n",
    "    data, times = raw_ref.get_data(picks=channels_to_plot, \n",
    "                                   start=int(start_time * raw.info['sfreq']), \n",
    "                                   stop=int((start_time + duration) * raw.info['sfreq']), \n",
    "                                   return_times=True)\n",
    "    \n",
    "    for j, ch_name in enumerate(channels_to_plot):\n",
    "        axes[i].plot(times, data[j] * 1e6, label=ch_name)\n",
    "    \n",
    "    axes[i].set_title(title)\n",
    "    axes[i].set_ylabel('Amplitude (μV)')\n",
    "    axes[i].legend(loc='upper right')\n",
    "\n",
    "axes[2].set_xlabel('Time (s)')\n",
    "plt.tight_layout()\n",
    "plt.show()\n",
    "\n"
   ]
  },
  {
   "cell_type": "code",
   "execution_count": 10,
   "metadata": {},
   "outputs": [
    {
     "name": "stderr",
     "output_type": "stream",
     "text": [
      "qt.core.qobject.connect: QObject::connect(QStyleHints, QStyleHints): unique connections require a pointer to member function of a QObject subclass\n"
     ]
    },
    {
     "data": {
      "text/plain": [
       "<mne_qt_browser._pg_figure.MNEQtBrowser(0x57208dd33a10) at 0x705ac0e35980>"
      ]
     },
     "execution_count": 10,
     "metadata": {},
     "output_type": "execute_result"
    },
    {
     "name": "stderr",
     "output_type": "stream",
     "text": [
      "/opt/anaconda3/envs/biosignals/lib/python3.10/site-packages/mne_qt_browser/_pg_figure.py:3061: RuntimeWarning: Failed to disconnect (None) from signal \"triggered()\".\n",
      "  sig.disconnect()\n"
     ]
    }
   ],
   "source": [
    "# Bipolar reference\n",
    "\n",
    "raw_bip_ref = mne.set_bipolar_reference(raw, anode=[\"EEG 054\"], cathode=[\"EEG 055\"])\n",
    "raw_bip_ref.plot()"
   ]
  },
  {
   "cell_type": "markdown",
   "metadata": {},
   "source": [
    "### Downsampling\n",
    "\n",
    "EEG and MEG recordings are notable for their high temporal precision, and are often recorded with sampling rates around 1000 Hz or higher. This is good when precise timing of events is important to the experimental design or analysis plan, but also consumes more memory and computational resources when processing the data. In cases where high-frequency components of the signal are not of interest and precise timing is not needed (e.g., computing EOG or ECG projectors on a long recording), downsampling the signal can be a useful time-saver.\n"
   ]
  },
  {
   "cell_type": "code",
   "execution_count": 13,
   "metadata": {},
   "outputs": [
    {
     "name": "stdout",
     "output_type": "stream",
     "text": [
      "Original sampling rate: 600.614990234375 Hz\n",
      "New sampling rate: 250.0 Hz\n"
     ]
    }
   ],
   "source": [
    "# Let's demonstrate downsampling and its effects on the data.\n",
    "\n",
    "# Original sampling rate\n",
    "print(f\"Original sampling rate: {raw.info['sfreq']} Hz\")\n",
    "\n",
    "# Downsample to 250 Hz\n",
    "new_freq = 250\n",
    "raw_downsampled = raw_interp.copy().resample(new_freq)\n",
    "\n",
    "# Verify new sampling rate\n",
    "print(f\"New sampling rate: {raw_downsampled.info['sfreq']} Hz\")\n",
    "\n",
    "# Compare the signals before and after downsampling\n",
    "fig, axes = plt.subplots(2, 1, figsize=(15, 8), sharex=True)\n",
    "\n",
    "# Plot original data\n",
    "channel = 'EEG 001'  # Choose a channel to plot\n",
    "data_orig, times_orig = raw_interp.get_data(picks=channel, return_times=True)\n",
    "axes[0].plot(times_orig, data_orig[0] * 1e6)\n",
    "axes[0].set_title(f'Original ({raw.info[\"sfreq\"]} Hz)')\n",
    "axes[0].set_ylabel('Amplitude (μV)')\n",
    "\n",
    "# Plot downsampled data\n",
    "data_down, times_down = raw_downsampled.get_data(picks=channel, return_times=True)\n",
    "axes[1].plot(times_down, data_down[0] * 1e6, 'r')\n",
    "axes[1].set_title(f'Downsampled ({raw_downsampled.info[\"sfreq\"]} Hz)')\n",
    "axes[1].set_ylabel('Amplitude (μV)')\n",
    "axes[1].set_xlabel('Time (s)')\n",
    "\n",
    "# Show a zoomed section to see the difference in sampling points\n",
    "zoom_start = 5\n",
    "zoom_end = 6.2\n",
    "for ax in axes:\n",
    "    ax.set_xlim(zoom_start, zoom_end)\n",
    "    \n",
    "plt.tight_layout()\n",
    "plt.show()\n"
   ]
  },
  {
   "cell_type": "markdown",
   "metadata": {},
   "source": [
    "By default, MNE-Python resamples using method=\"fft\", which performs FFT-based resampling via scipy.signal.resample(). While efficient and good for most biological signals, it has two main potential drawbacks:\n",
    "\n",
    "It assumes periodicity of the signal. We try to overcome this with appropriate signal padding, but some signal leakage may still occur.\n",
    "\n",
    "It treats the entire signal as a single block. This means that in general effects are not guaranteed to be localized in time, though in practice they often are.\n",
    "\n",
    "Alternatively, resampling can be performed using method=\"polyphase\" instead. In general, using method=\"polyphase\" can also be faster than method=\"fft\" in cases where the desired sampling rate is an integer factor different from the input sampling rate."
   ]
  },
  {
   "cell_type": "code",
   "execution_count": 15,
   "metadata": {},
   "outputs": [
    {
     "name": "stdout",
     "output_type": "stream",
     "text": [
      "Polyphase resampling neighborhood: ±2 input samples\n",
      "New sampling rate: 300.3074951171875 Hz\n"
     ]
    }
   ],
   "source": [
    "# Downsample to 250 Hz\n",
    "new_freq = raw.info['sfreq']/2.0\n",
    "raw_downsampled_poly = raw_interp.copy().resample(new_freq, method=\"polyphase\", verbose=True )\n",
    "\n",
    "# Verify new sampling rate\n",
    "print(f\"New sampling rate: {raw_downsampled_poly.info['sfreq']} Hz\")\n",
    "\n",
    "# Compare the signals before and after downsampling\n",
    "fig, axes = plt.subplots(2, 1, figsize=(15, 8), sharex=True)\n",
    "\n",
    "# Plot original data\n",
    "channel = 'EEG 001'  # Choose a channel to plot\n",
    "data_orig, times_orig = raw_interp.get_data(picks=channel, return_times=True)\n",
    "axes[0].plot(times_orig, data_orig[0] * 1e6)\n",
    "axes[0].set_title(f'Original ({raw.info[\"sfreq\"]} Hz)')\n",
    "axes[0].set_ylabel('Amplitude (μV)')\n",
    "\n",
    "# Plot downsampled data\n",
    "data_down, times_down = raw_downsampled_poly.get_data(picks=channel, return_times=True)\n",
    "axes[1].plot(times_down, data_down[0] * 1e6, 'r')\n",
    "axes[1].set_title(f'Downsampled ({raw_downsampled_poly.info[\"sfreq\"]} Hz)')\n",
    "axes[1].set_ylabel('Amplitude (μV)')\n",
    "axes[1].set_xlabel('Time (s)')\n",
    "\n",
    "# Show a zoomed section to see the difference in sampling points\n",
    "zoom_start = 5\n",
    "zoom_end = 6.2\n",
    "for ax in axes:\n",
    "    ax.set_xlim(zoom_start, zoom_end)\n",
    "    \n",
    "plt.tight_layout()\n",
    "plt.show()"
   ]
  },
  {
   "cell_type": "markdown",
   "metadata": {},
   "source": [
    "### Data filtering\n",
    "(more detail in case you are interested can be found on: https://mne.tools/stable/auto_tutorials/preprocessing/25_background_filtering.html)\n",
    "\n",
    "#### Key Concepts in EEG Filtering\n",
    "\n",
    "##### Filtering Basics\n",
    "\n",
    "Filtering is a crucial preprocessing step for EEG data analysis. It alters the spectral content of data by attenuating certain frequencies while preserving others. Common filter types include:\n",
    "\n",
    "- **High-pass filters**: Remove low frequencies while retaining higher frequencies\n",
    "- **Low-pass filters**: Remove high frequencies while retaining lower frequencies\n",
    "- **Band-pass filters**: Preserve frequencies within a specific range\n",
    "- **Band-stop/notch filters**: Remove frequencies within a specific range (commonly used for power line noise)\n",
    "\n",
    "##### FIR vs IIR Filters\n",
    "\n",
    "MNE offers two main filter implementations:\n",
    "\n",
    "**FIR (Finite Impulse Response) filters:**\n",
    "- Have a limited-duration impulse response\n",
    "- Provide better stability and linear phase response\n",
    "- Recommended for most offline EEG analyses\n",
    "- Implemented in MNE with the `method='fir'` parameter\n",
    "\n",
    "**IIR (Infinite Impulse Response) filters:**\n",
    "- Have an impulse response that can last indefinitely\n",
    "- More computationally efficient but can have stability issues\n",
    "- Introduce non-linear phase shifts (phase distortion)\n",
    "- May be useful for real-time applications\n",
    "- Implemented in MNE with the `method='iir'` parameter\n",
    "\n",
    "##### Zero-Phase Filtering\n",
    "\n",
    "Zero-phase filtering is achieved in MNE by:\n",
    "- Forward filtering the data\n",
    "- Reversing the filtered signal\n",
    "- Filtering again\n",
    "- Reversing once more\n",
    "\n",
    "This eliminates phase distortion but doubles the effective filter order and can cause temporal smearing. Use the `phase='zero'` parameter in MNE.\n",
    "\n",
    "##### Filter Design Considerations\n",
    "\n",
    "**Filter Order:**\n",
    "- Higher orders create steeper roll-offs but introduce more temporal smearing\n",
    "- MNE automatically determines appropriate filter orders by default\n",
    "\n",
    "**Edge Effects:**\n",
    "- Filters can create artifacts at signal boundaries\n",
    "- MNE automatically handles edge artifacts by padding data\n",
    "\n",
    "**Transition Bandwidth:**\n",
    "- Specifies the width of the transition between pass and stop bands\n",
    "- Narrower transitions require higher filter orders\n",
    "\n",
    "##### Filter Settings Cautions\n",
    "\n",
    "**High-Pass Filtering:**\n",
    "- High-pass filters above 0.1 Hz can significantly distort slow ERPs\n",
    "- Even 0.1 Hz high-pass can alter the shape of late components\n",
    "- Causal high-pass filters cause signal phase shifts that grow at lower frequencies\n",
    "\n",
    "**Low-Pass Filtering:**\n",
    "- Lower low-pass cutoffs can smear sharp response peaks in time\n",
    "- Designs with narrower transition bands introduce more ringing\n",
    "\n",
    "##### Practical Recommendations\n",
    "\n",
    "1. **Filter the continuous data** before epoching to prevent edge artifacts\n",
    "\n",
    "2. **Apply filters with caution:**\n",
    "   - High-pass: ≤ 0.1 Hz for ERPs, ~1 Hz for oscillations\n",
    "   - Low-pass: 40-100 Hz depending on your frequency of interest\n",
    "\n",
    "3. **Choose appropriate filter parameters:**\n",
    "   - Use FIR filters with zero-phase for offline analysis\n",
    "   - Use the 'firwin' design method as a good default option\n",
    "   - Let MNE automatically determine filter length when possible\n",
    "\n",
    "4. **Check your data before and after filtering** to ensure the filter is working as expected and not introducing artifacts\n",
    "\n",
    "Remember that filter settings should always be tailored to your specific research question and reported clearly in your methods."
   ]
  },
  {
   "cell_type": "code",
   "execution_count": 16,
   "metadata": {},
   "outputs": [],
   "source": [
    "\n",
    "# Now let's apply different types of filters and see their effects.\n",
    "\n",
    "# Create copies of the raw data for different filtering operations\n",
    "raw_filtered = raw_interp.copy()\n",
    "\n",
    "# 1. High-pass filter at 1 Hz (remove slow drifts)\n",
    "raw_highpass = raw_filtered.copy().filter(l_freq=1, h_freq=None, \n",
    "                                       fir_design='firwin', verbose=False)\n",
    "\n",
    "# 2. Low-pass filter at 40 Hz (remove high-frequency noise)\n",
    "raw_lowpass = raw_filtered.copy().filter(l_freq=None, h_freq=40, \n",
    "                                      fir_design='firwin', verbose=False)\n",
    "\n",
    "# 3. Band-pass filter between 1-40 Hz (common EEG preprocessing)\n",
    "raw_bandpass = raw_filtered.copy().filter(l_freq=1, h_freq=40, \n",
    "                                       fir_design='firwin', verbose=False)\n",
    "\n",
    "# 4. Notch filter at 50 or 60 Hz (power line noise)\n",
    "raw_notch = raw_filtered.copy().notch_filter(freqs=50, verbose=False)\n",
    "\n",
    "# Compare all filtering approaches\n",
    "channel = 'EEG 001'  # Choose a channel to visualize\n",
    "titles = ['Raw Unfiltered', 'High-pass (>1 Hz)', 'Low-pass (<40 Hz)', \n",
    "          'Band-pass (1-40 Hz)', 'Notch (50 Hz)']\n",
    "raws = [raw_filtered, raw_highpass, raw_lowpass, raw_bandpass, raw_notch]\n",
    "\n",
    "fig, axes = plt.subplots(len(raws), 1, figsize=(15, 15), sharex=True)\n",
    "\n",
    "# Plot a 5-second segment\n",
    "start_time = 0\n",
    "duration = 5\n",
    "\n",
    "for i, (raw_plot, title) in enumerate(zip(raws, titles)):\n",
    "    data, times = raw_plot.get_data(picks=channel, \n",
    "                                   start=int(start_time * raw.info['sfreq']), \n",
    "                                   stop=int((start_time + duration) * raw.info['sfreq']), \n",
    "                                   return_times=True)\n",
    "    \n",
    "    axes[i].plot(times, data[0] * 1e6)\n",
    "    axes[i].set_title(title)\n",
    "    axes[i].set_ylabel('Amplitude (μV)')\n",
    "\n",
    "axes[-1].set_xlabel('Time (s)')\n",
    "plt.tight_layout()\n",
    "plt.show()"
   ]
  },
  {
   "cell_type": "markdown",
   "metadata": {},
   "source": [
    "#### Let's look at all the recordings (bandpass / highpass)"
   ]
  },
  {
   "cell_type": "code",
   "execution_count": 17,
   "metadata": {},
   "outputs": [
    {
     "name": "stderr",
     "output_type": "stream",
     "text": [
      "qt.core.qobject.connect: QObject::connect(QStyleHints, QStyleHints): unique connections require a pointer to member function of a QObject subclass\n",
      "qt.core.qobject.connect: QObject::connect(QStyleHints, QStyleHints): unique connections require a pointer to member function of a QObject subclass\n"
     ]
    },
    {
     "data": {
      "text/plain": [
       "<mne_qt_browser._pg_figure.MNEQtBrowser(0x572096c5dd90) at 0x705ab6bbb000>"
      ]
     },
     "execution_count": 17,
     "metadata": {},
     "output_type": "execute_result"
    },
    {
     "name": "stderr",
     "output_type": "stream",
     "text": [
      "/opt/anaconda3/envs/biosignals/lib/python3.10/site-packages/mne_qt_browser/_pg_figure.py:3061: RuntimeWarning: Failed to disconnect (None) from signal \"triggered()\".\n",
      "  sig.disconnect()\n"
     ]
    }
   ],
   "source": [
    "raw_bandpass.plot()\n",
    "raw_highpass.plot()"
   ]
  },
  {
   "cell_type": "markdown",
   "metadata": {},
   "source": [
    "### Channel Locations"
   ]
  },
  {
   "cell_type": "code",
   "execution_count": 18,
   "metadata": {},
   "outputs": [],
   "source": [
    "raw_filtered.plot_sensors(show_names=True, ch_type=\"eeg\")\n",
    "plt.show()"
   ]
  },
  {
   "cell_type": "markdown",
   "metadata": {},
   "source": [
    "### Frequency Domain Analysis"
   ]
  },
  {
   "cell_type": "code",
   "execution_count": 19,
   "metadata": {},
   "outputs": [],
   "source": [
    "# Let's compute and visualize the power spectral density (PSD) using different methods.\n",
    "\n",
    "# Compute PSDs using different methods\n",
    "\n",
    "# 1. Welch's method\n",
    "fmin, fmax = 0, 30  # Frequency range of interest\n",
    "raw_psd_welch = raw_bandpass.compute_psd(method='welch', fmin=fmin, fmax=fmax)\n",
    "\n",
    "# 2. Multitaper method\n",
    "raw_psd_multitaper = raw_bandpass.compute_psd(method='multitaper', fmin=fmin, fmax=fmax)\n",
    "\n",
    "# Plot both PSDs for comparison\n",
    "fig, axes = plt.subplots(2, 1, figsize=(15, 10))\n",
    "\n",
    "# Plot Welch PSD\n",
    "spectrum = raw_psd_welch.get_data(picks='eeg')\n",
    "freqs = raw_psd_welch.freqs\n",
    "for i in range(spectrum.shape[0]):\n",
    "    axes[0].semilogy(freqs, spectrum[i, :], alpha=0.5, lw=0.5, color='black')\n",
    "    \n",
    "mean_spectrum = np.mean(spectrum, axis=0)\n",
    "axes[0].semilogy(freqs, mean_spectrum, lw=2, color='red')\n",
    "axes[0].set_title('Power Spectral Density (Welch method)')\n",
    "axes[0].set_xlabel('Frequency (Hz)')\n",
    "axes[0].set_ylabel('Power (µV²/Hz)')\n",
    "axes[0].grid(True)\n",
    "\n",
    "# Color EEG frequency bands\n",
    "bands = {\n",
    "    'Delta': (0.5, 4),\n",
    "    'Theta': (4, 8),\n",
    "    'Alpha': (8, 13),\n",
    "    'Beta': (13, 30),\n",
    "    'Gamma': (30, 45)\n",
    "}\n",
    "\n",
    "colors = ['#E69F00', '#56B4E9', '#009E73', '#F0E442', '#CC79A7']\n",
    "for (band, freq_range), color in zip(bands.items(), colors):\n",
    "    # Find closest frequencies in our frequency vector\n",
    "    idx_min = np.argmin(abs(freqs - freq_range[0]))\n",
    "    idx_max = np.argmin(abs(freqs - freq_range[1]))\n",
    "    \n",
    "    # Mark the frequency band\n",
    "    axes[0].axvspan(freqs[idx_min], freqs[idx_max], color=color, alpha=0.2, label=band)\n",
    "    \n",
    "axes[0].legend(loc='upper right')\n",
    "\n",
    "# Plot Multitaper PSD\n",
    "spectrum = raw_psd_multitaper.get_data(picks='eeg')\n",
    "freqs = raw_psd_multitaper.freqs\n",
    "for i in range(spectrum.shape[0]):\n",
    "    axes[1].semilogy(freqs, spectrum[i, :], alpha=0.5, lw=0.5, color='black')\n",
    "    \n",
    "mean_spectrum = np.mean(spectrum, axis=0)\n",
    "axes[1].semilogy(freqs, mean_spectrum, lw=2, color='red')\n",
    "axes[1].set_title('Power Spectral Density (Multitaper method)')\n",
    "axes[1].set_xlabel('Frequency (Hz)')\n",
    "axes[1].set_ylabel('Power (µV²/Hz)')\n",
    "axes[1].grid(True)\n",
    "\n",
    "# Color EEG frequency bands\n",
    "for (band, freq_range), color in zip(bands.items(), colors):\n",
    "    # Find closest frequencies in our frequency vector\n",
    "    idx_min = np.argmin(abs(freqs - freq_range[0]))\n",
    "    idx_max = np.argmin(abs(freqs - freq_range[1]))\n",
    "    \n",
    "    # Mark the frequency band\n",
    "    axes[1].axvspan(freqs[idx_min], freqs[idx_max], color=color, alpha=0.2, label=band)\n",
    "    \n",
    "axes[1].legend(loc='upper right')\n",
    "\n",
    "plt.tight_layout()\n",
    "plt.show()\n"
   ]
  },
  {
   "cell_type": "markdown",
   "metadata": {},
   "source": [
    "### PSD plots using MNE "
   ]
  },
  {
   "cell_type": "code",
   "execution_count": 22,
   "metadata": {},
   "outputs": [],
   "source": [
    "spectrum = raw_highpass.compute_psd(fmin=1, fmax=45)\n",
    "spectrum.plot(average=True, picks=\"data\", exclude=\"bads\", amplitude=False, )\n",
    "plt.show()"
   ]
  },
  {
   "cell_type": "code",
   "execution_count": 23,
   "metadata": {},
   "outputs": [],
   "source": [
    "spectrum.plot_topomap()\n",
    "plt.show()"
   ]
  },
  {
   "cell_type": "code",
   "execution_count": 24,
   "metadata": {},
   "outputs": [],
   "source": [
    "spectrum.plot_topo()\n",
    "plt.show()"
   ]
  }
 ],
 "metadata": {
  "kernelspec": {
   "display_name": "biosignals",
   "language": "python",
   "name": "python3"
  },
  "language_info": {
   "codemirror_mode": {
    "name": "ipython",
    "version": 3
   },
   "file_extension": ".py",
   "mimetype": "text/x-python",
   "name": "python",
   "nbconvert_exporter": "python",
   "pygments_lexer": "ipython3",
   "version": "3.10.13"
  }
 },
 "nbformat": 4,
 "nbformat_minor": 2
}
