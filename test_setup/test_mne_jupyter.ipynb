{
 "cells": [
  {
   "cell_type": "markdown",
   "metadata": {},
   "source": [
    "# Definitions"
   ]
  },
  {
   "cell_type": "code",
   "execution_count": 1,
   "metadata": {},
   "outputs": [],
   "source": [
    "%matplotlib qt\n",
    "\n",
    "import mne\n",
    "import matplotlib.pyplot as plt"
   ]
  },
  {
   "cell_type": "markdown",
   "metadata": {},
   "source": [
    "# Functions"
   ]
  },
  {
   "cell_type": "code",
   "execution_count": 7,
   "metadata": {},
   "outputs": [],
   "source": [
    "def simple_mne_demo():\n",
    "    \"\"\"\n",
    "    Simple demonstration of MNE-Python capabilities using sample data\n",
    "    \"\"\"\n",
    "    print(\"Loading sample data...\")\n",
    "    # Download and load sample data\n",
    "    sample_data_folder = mne.datasets.sample.data_path()\n",
    "    sample_data_raw_file = (sample_data_folder / 'MEG' / 'sample' /\n",
    "                           'sample_audvis_raw.fif')\n",
    "    raw = mne.io.read_raw_fif(sample_data_raw_file)\n",
    "    \n",
    "    # Print some basic information about the data\n",
    "    print(\"\\nDataset Information:\")\n",
    "    print(f\"Number of channels: {len(raw.ch_names)}\")\n",
    "    print(f\"Sampling frequency: {raw.info['sfreq']} Hz\")\n",
    "    print(f\"Recording length: {raw.times.max():.2f} seconds\")\n",
    "    \n",
    "    # Plot first 10 seconds of data\n",
    "    print(\"\\nPlotting first 10 seconds of EEG channels...\")\n",
    "    # Pick only EEG channels for clarity\n",
    "    raw_eeg = raw.pick_types(meg=False, eeg=True)\n",
    "\n",
    "  \n",
    "    \n",
    "    # Plot the first 10 seconds\n",
    "    # raw_eeg.plot(duration=10, n_channels=5, \n",
    "    #             scalings='auto', title='Sample EEG Data')\n",
    "    \n",
    "    # Create a Power Spectral Density plot\n",
    "    print(\"\\nCreating PSD plot...\")\n",
    "    # raw_eeg.plot_psd(fmax=50, average=True)\n",
    "    # raw.compute_psd().plot(fmax=20,average=True)\n",
    "    raw.compute_psd().plot(average=True)"
   ]
  },
  {
   "cell_type": "code",
   "execution_count": 8,
   "metadata": {},
   "outputs": [
    {
     "name": "stdout",
     "output_type": "stream",
     "text": [
      "Loading sample data...\n",
      "Opening raw data file C:\\Users\\Mateusz\\mne_data\\MNE-sample-data\\MEG\\sample\\sample_audvis_raw.fif...\n",
      "    Read a total of 3 projection items:\n",
      "        PCA-v1 (1 x 102)  idle\n",
      "        PCA-v2 (1 x 102)  idle\n",
      "        PCA-v3 (1 x 102)  idle\n",
      "    Range : 25800 ... 192599 =     42.956 ...   320.670 secs\n",
      "Ready.\n",
      "\n",
      "Dataset Information:\n",
      "Number of channels: 376\n",
      "Sampling frequency: 600.614990234375 Hz\n",
      "Recording length: 277.71 seconds\n",
      "\n",
      "Plotting first 10 seconds of EEG channels...\n",
      "NOTE: pick_types() is a legacy function. New code should use inst.pick(...).\n",
      "\n",
      "Creating PSD plot...\n",
      "Effective window size : 3.410 (s)\n",
      "Plotting power spectral density (dB=True).\n"
     ]
    }
   ],
   "source": [
    "simple_mne_demo()"
   ]
  }
 ],
 "metadata": {
  "kernelspec": {
   "display_name": "biosignals",
   "language": "python",
   "name": "python3"
  },
  "language_info": {
   "codemirror_mode": {
    "name": "ipython",
    "version": 3
   },
   "file_extension": ".py",
   "mimetype": "text/x-python",
   "name": "python",
   "nbconvert_exporter": "python",
   "pygments_lexer": "ipython3",
   "version": "3.10.16"
  }
 },
 "nbformat": 4,
 "nbformat_minor": 2
}
